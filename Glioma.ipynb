{
 "cells": [
  {
   "cell_type": "code",
   "execution_count": 1,
   "metadata": {},
   "outputs": [],
   "source": [
    "import pandas as pd\n",
    "from sklearn.ensemble import RandomForestRegressor\n",
    "import matplotlib.pyplot as plt\n",
    "import seaborn as sns\n",
    "from sklearn import svm\n",
    "import numpy as np"
   ]
  },
  {
   "cell_type": "code",
   "execution_count": 2,
   "metadata": {},
   "outputs": [],
   "source": [
    "features = pd.read_csv('data/GlioblastomaWide.csv')\n",
    "labels = features['Expected']\n",
    "\n",
    "features = features.drop('Expected', axis=1)\n",
    "\n",
    "features = pd.get_dummies(features, columns=['Cluster'])\n",
    "features = features.fillna(method='ffill')\n",
    "features = features.fillna(method='backfill')\n",
    "\n",
    "test = pd.read_csv('data/final.csv')\n",
    "test = test.fillna(method='ffill')\n",
    "test = test.fillna(method='backfill')\n",
    "test = pd.get_dummies(test, columns=['Cluster'])"
   ]
  },
  {
   "cell_type": "code",
   "execution_count": 3,
   "metadata": {
    "scrolled": false
   },
   "outputs": [],
   "source": [
    "correlatedColumnsByTwoPoints = []\n",
    "correlatedColumnsByFourPoints = []\n",
    "correlatedColumnsByThreePoints = []\n",
    "for col in features.columns:\n",
    "    if(abs(features[col].corr(labels))>0.05):\n",
    "        correlatedColumnsByTwoPoints.append(col)\n",
    "        if(abs(features[col].corr(labels))>0.1):\n",
    "            correlatedColumnsByThreePoints.append(col)\n",
    "            if(abs(features[col].corr(labels))>0.15):\n",
    "                correlatedColumnsByFourPoints.append(col)"
   ]
  },
  {
   "cell_type": "code",
   "execution_count": 4,
   "metadata": {},
   "outputs": [
    {
     "data": {
      "text/plain": [
       "(10529, 5961, 2890)"
      ]
     },
     "execution_count": 4,
     "metadata": {},
     "output_type": "execute_result"
    }
   ],
   "source": [
    "len(correlatedColumnsByTwoPoints),len(correlatedColumnsByThreePoints),len(correlatedColumnsByFourPoints)"
   ]
  },
  {
   "cell_type": "code",
   "execution_count": 5,
   "metadata": {},
   "outputs": [],
   "source": [
    "features = features[correlatedColumnsByTwoPoints]\n",
    "rf = svm.SVR(C=1.0, cache_size=200, coef0=0.0, degree=3, epsilon=0.1, kernel='rbf', max_iter=-1, shrinking=True,\n",
    "    tol=0.001, verbose=False)\n",
    "rf.fit(features, labels)\n",
    "\n",
    "test = test[correlatedColumnsByTwoPoints]\n",
    "results = rf.predict(test)\n",
    "\n",
    "df = pd.DataFrame(results, columns=['Expected'])\n",
    "df.index = np.arange(1, len(df) + 1)\n",
    "df.to_csv(\"foo1.csv\")"
   ]
  },
  {
   "cell_type": "code",
   "execution_count": 6,
   "metadata": {},
   "outputs": [],
   "source": [
    "features = features[correlatedColumnsByThreePoints]\n",
    "features = features[correlatedColumnsByThreePoints]\n",
    "rf = svm.SVR(C=1.0, cache_size=200, coef0=0.0, degree=3, epsilon=0.0, kernel='rbf', max_iter=-1, shrinking=True,\n",
    "    tol=0.001, verbose=False)\n",
    "rf.fit(features, labels)\n",
    "test = test[correlatedColumnsByThreePoints]\n",
    "results = rf.predict(test)\n",
    "\n",
    "df = pd.DataFrame(results, columns=['Expected'])\n",
    "df.index = np.arange(1, len(df) + 1)\n",
    "df.to_csv(\"foo2.csv\")"
   ]
  },
  {
   "cell_type": "code",
   "execution_count": 7,
   "metadata": {},
   "outputs": [],
   "source": [
    "features = features[correlatedColumnsByFourPoints]\n",
    "features = features[correlatedColumnsByFourPoints]\n",
    "rf = svm.SVR(C=1.0, cache_size=200, coef0=0.0, degree=3, epsilon=0.1, kernel='rbf', max_iter=-1, shrinking=True,\n",
    "    tol=0.001, verbose=False)\n",
    "rf.fit(features, labels)\n",
    "test = test[correlatedColumnsByFourPoints]\n",
    "results = rf.predict(test)\n",
    "\n",
    "df = pd.DataFrame(results, columns=['Expected'])\n",
    "df.index = np.arange(1, len(df) + 1)\n",
    "df.to_csv(\"foo3.csv\")"
   ]
  },
  {
   "cell_type": "code",
   "execution_count": null,
   "metadata": {},
   "outputs": [],
   "source": [
    ""
   ]
  },
  {
   "cell_type": "code",
   "execution_count": 8,
   "metadata": {},
   "outputs": [],
   "source": [
    "from sklearn import linear_model\n",
    "regr = linear_model.LinearRegression()\n",
    "regr.fit(features, labels)\n",
    "resultsLinear = regr.predict(test)\n",
    "\n",
    "dfLinear = pd.DataFrame(results, columns=['Expected'])\n",
    "dfLinear.index = np.arange(1, len(df) + 1)\n",
    "dfLinear.to_csv(\"Linear.csv\")"
   ]
  },
  {
   "cell_type": "code",
   "execution_count": null,
   "metadata": {},
   "outputs": [],
   "source": [
    ""
   ]
  },
  {
   "cell_type": "code",
   "execution_count": null,
   "metadata": {},
   "outputs": [],
   "source": [
    ""
   ]
  },
  {
   "cell_type": "code",
   "execution_count": null,
   "metadata": {},
   "outputs": [],
   "source": [
    ""
   ]
  },
  {
   "cell_type": "code",
   "execution_count": null,
   "metadata": {},
   "outputs": [],
   "source": [
    ""
   ]
  }
 ],
 "metadata": {
  "kernelspec": {
   "display_name": "Python 3",
   "language": "python",
   "name": "python3"
  },
  "language_info": {
   "codemirror_mode": {
    "name": "ipython",
    "version": 3.0
   },
   "file_extension": ".py",
   "mimetype": "text/x-python",
   "name": "python",
   "nbconvert_exporter": "python",
   "pygments_lexer": "ipython3",
   "version": "3.5.2"
  }
 },
 "nbformat": 4,
 "nbformat_minor": 0
}